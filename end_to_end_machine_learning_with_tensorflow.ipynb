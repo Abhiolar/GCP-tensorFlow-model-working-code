{
  "nbformat": 4,
  "nbformat_minor": 0,
  "metadata": {
    "colab": {
      "name": "end to end machine learning with tensorflow.ipynb",
      "provenance": [],
      "authorship_tag": "ABX9TyObumIF38EzGpcFlQNwk+67"
    },
    "kernelspec": {
      "name": "python3",
      "display_name": "Python 3"
    }
  },
  "cells": [
    {
      "cell_type": "markdown",
      "metadata": {
        "id": "IEGEFYPtYjRj",
        "colab_type": "text"
      },
      "source": [
        "# **Exploring the natality dataset**"
      ]
    },
    {
      "cell_type": "code",
      "metadata": {
        "id": "-a1ZrbtgYur0",
        "colab_type": "code",
        "colab": {}
      },
      "source": [
        "BUCKET = 'crawles-sandbox'\n",
        "PROJECT = 'crawles-sandbox'\n",
        "REGION = 'us-central1'\n",
        "\n",
        "\n",
        "import os\n",
        "os.environ['BUCKET'] = BUCKET\n",
        "os.environ['PROJECT'] = PROJECT\n",
        "os.environ['REGION'] = REGION\n"
      ],
      "execution_count": 0,
      "outputs": []
    },
    {
      "cell_type": "code",
      "metadata": {
        "id": "NrNGpGxeZsx5",
        "colab_type": "code",
        "colab": {}
      },
      "source": [
        "%%bash\n",
        "if ! gsutil ls | grep -q gs://${BUCKET}?; then\n",
        "     gsutil mb -L ${REGION} gs:??${BUCKET}\n",
        "fi"
      ],
      "execution_count": 0,
      "outputs": []
    },
    {
      "cell_type": "code",
      "metadata": {
        "id": "eRzZGFYuaKBr",
        "colab_type": "code",
        "colab": {}
      },
      "source": [
        "query = \"\"\"\n",
        "SELECT weight_pounds, is_male, mother_age, plurality,\n",
        "gestation_weeks, ABS (FARM_FINGERPRINT(CONCAT(CAST(YEAR AS STRING), CAST(month AS STRING))))\n",
        "FROM \n",
        "publicdata.samples.natality\n",
        "WHERE year > 2000\n",
        "\"\"\""
      ],
      "execution_count": 0,
      "outputs": []
    },
    {
      "cell_type": "code",
      "metadata": {
        "id": "3KNPU9tNbIUC",
        "colab_type": "code",
        "colab": {}
      },
      "source": [
        "#call BigQuery and examine in the dataframe\n",
        "import google.datalab.bigquery as bq\n",
        "df = bq.Query(query + \"LIMIT 100\").execute().result().to_dataframe()\n",
        "df.head(10)"
      ],
      "execution_count": 0,
      "outputs": []
    },
    {
      "cell_type": "code",
      "metadata": {
        "id": "OlV9gTb_bfKD",
        "colab_type": "code",
        "colab": {}
      },
      "source": [
        "#create a function that finds the number of records and the average weight for each of these records\n",
        "def get_distinct_values(column_name):\n",
        "  sql = \"\"\"\n",
        "  SELECT {0}, COUNT(1) AS num_babies,\n",
        "  AVG(weight_pounds) AS avg_wt\n",
        "  FROM\n",
        "  publicdata.samples.natality\n",
        "  WHERE year > 2000\n",
        "  GROUP BY {0}\"\"\".fotrmat(column_name)\n",
        "  return bq.Query(sql).execute().result().to_dataframe"
      ],
      "execution_count": 0,
      "outputs": []
    },
    {
      "cell_type": "code",
      "metadata": {
        "id": "MgRohFjAcjjK",
        "colab_type": "code",
        "colab": {}
      },
      "source": [
        "#plot the sex of the babies against the number of the babies and average weight of teh groups\n",
        "df = get_distinct_values('is_male')\n",
        "df.plot (x = 'is_male', y = 'num_babies', kind = 'bar');\n",
        "df.plot(x = 'is_male', y = 'avg_wt', kind = 'bar')\n",
        "\n"
      ],
      "execution_count": 0,
      "outputs": []
    },
    {
      "cell_type": "code",
      "metadata": {
        "id": "JJhP58dEe-dH",
        "colab_type": "code",
        "colab": {}
      },
      "source": [
        "#do the same thing with the mothers' age\n",
        "df = get_distinct_values('mother_age')\n",
        "df = df.sort_values('mother_age')\n",
        "df.plot (x = 'is_male', y = 'num_babies';\n",
        "df.plot(x = 'is_male', y = 'avg_wt');\n"
      ],
      "execution_count": 0,
      "outputs": []
    },
    {
      "cell_type": "code",
      "metadata": {
        "id": "yzu-I1WSfwvM",
        "colab_type": "code",
        "colab": {}
      },
      "source": [
        "df = get_distinct_values('plurality')\n",
        "df = df.sort_values('plurality')\n",
        "df.plot(x = 'plurality', y = 'num_babies', logy = True, kind = 'bar')\n",
        "df.plot(x = 'plurality', y = 'avg_wt', kind = bar)\n"
      ],
      "execution_count": 0,
      "outputs": []
    },
    {
      "cell_type": "code",
      "metadata": {
        "id": "DPXEL4xpgXba",
        "colab_type": "code",
        "colab": {}
      },
      "source": [
        "df = get_distinct_values('gestation_weeks')\n",
        "df = df.sort_values('gestation_weeks')\n",
        "df.plot(x ='gestation_weeks', y = 'num_babies', logy = True, kind = 'bar')\n",
        "df.plot(x = 'gestation_weeeks', y = 'avg_wt', kind = 'bar')"
      ],
      "execution_count": 0,
      "outputs": []
    },
    {
      "cell_type": "markdown",
      "metadata": {
        "id": "jVzPbdfyjxZd",
        "colab_type": "text"
      },
      "source": [
        "# BUILD MACHINE LEARNING MODEL"
      ]
    },
    {
      "cell_type": "markdown",
      "metadata": {
        "id": "cvD0Hk4DnZH3",
        "colab_type": "text"
      },
      "source": [
        "# craete ML dataset by sampling using BigQuery"
      ]
    },
    {
      "cell_type": "code",
      "metadata": {
        "id": "SLuZcSb9kG3I",
        "colab_type": "code",
        "colab": {
          "base_uri": "https://localhost:8080/",
          "height": 34
        },
        "outputId": "649ba9b6-265a-4897-f961-ceb277d9e53e"
      },
      "source": [
        "\"\"\"sample the dataset so that you have approximately 12,000 training examples and 3000 evaluation examples. the training and evaluation datasets have\n",
        "to be well-distributed\"\"\""
      ],
      "execution_count": 1,
      "outputs": [
        {
          "output_type": "execute_result",
          "data": {
            "text/plain": [
              "'sample the dataset so that you have approximately 12,000 training examples and 3000 evaluation examples. the training and evaluation datasets have\\nto be well-distributed'"
            ]
          },
          "metadata": {
            "tags": []
          },
          "execution_count": 1
        }
      ]
    },
    {
      "cell_type": "code",
      "metadata": {
        "id": "dwbGfCaloVUF",
        "colab_type": "code",
        "colab": {}
      },
      "source": [
        "import google.datalab.bigquery as bq\n",
        "train_query = \"\"\"\n",
        "SELECT * FROM (\n",
        "SELECT weight_pounds,is_male, mother_age, plurality, \n",
        "gestation_weeks, ABS(FARM_FINGERPRINT(CONCAT(CAST(YEAR AS STRING), CAST(month AS STRING)))) AS hashmonth\n",
        "FROM \n",
        "publicdata.samples.natality\n",
        "WHERE year > 2000 ) AND is_male IS NOT NULL AND plurality IS_NOT_NULL\n",
        "AND weight_pounds IS NOT NULL AND gestation_weeks IS NOT NULL\n",
        "WHERE MOD(ABS(hashmonth),10) < 8 AND RAND() 0.0004\"\"\" \n"
      ],
      "execution_count": 0,
      "outputs": []
    },
    {
      "cell_type": "code",
      "metadata": {
        "id": "-8PfXkUDqa20",
        "colab_type": "code",
        "colab": {}
      },
      "source": [
        "df = bq.Query(train_query ).execute().result().to_dataframe()"
      ],
      "execution_count": 0,
      "outputs": []
    },
    {
      "cell_type": "markdown",
      "metadata": {
        "id": "HUtbVAQAujcl",
        "colab_type": "text"
      },
      "source": [
        "## SIMULATE LACK OF ULTRASOUND\n",
        "\n"
      ]
    },
    {
      "cell_type": "code",
      "metadata": {
        "id": "vg39fYS7uqKE",
        "colab_type": "code",
        "colab": {}
      },
      "source": [
        "import copy\n",
        "df2  = copy.deepcopy(df)\n",
        "df2['is_male'] = 'Unknown'"
      ],
      "execution_count": 0,
      "outputs": []
    },
    {
      "cell_type": "code",
      "metadata": {
        "id": "frVVOkA1vwkc",
        "colab_type": "code",
        "colab": {}
      },
      "source": [
        "def plurality(df,column_name):\n",
        "  if df.column_name.loc[df.column_name] == 1:\n",
        "    df.column_name = 'Single'\n",
        "  elif df.column_name.loc[df.column_name] == 2:\n",
        "    df.column_name = 'Twins'\n",
        "  elif df.column_name.loc[df.column_name] == 3:\n",
        "    df.column_name = 'Triplets'\n",
        "  else:\n",
        "    df.column_name = 'Quadruplets'"
      ],
      "execution_count": 0,
      "outputs": []
    },
    {
      "cell_type": "code",
      "metadata": {
        "id": "Wu9TJWySzJ0X",
        "colab_type": "code",
        "colab": {}
      },
      "source": [
        "plurality(df2,is_male)"
      ],
      "execution_count": 0,
      "outputs": []
    },
    {
      "cell_type": "code",
      "metadata": {
        "id": "GqqXW0pewv9n",
        "colab_type": "code",
        "colab": {}
      },
      "source": [
        "train_df = (df.merge(df2)).to_csv('train_csv', index = False, header = False)\n"
      ],
      "execution_count": 0,
      "outputs": []
    },
    {
      "cell_type": "code",
      "metadata": {
        "id": "dQHQhbc8yuhg",
        "colab_type": "code",
        "colab": {}
      },
      "source": [
        "eval_query = \"\"\"\n",
        "SELECT * FROM (\n",
        "SELECT weight_pounds,is_male, mother_age, plurality, \n",
        "gestation_weeks, ABS(FARM_FINGERPRINT(CONCAT(CAST(YEAR AS STRING), CAST(month AS STRING)))) AS hashmonth\n",
        "FROM \n",
        "publicdata.samples.natality\n",
        "WHERE year > 2000 ) AND is_male IS NOT NULL AND plurality IS_NOT_NULL\n",
        "AND weight_pounds IS NOT NULL AND gestation_weeks IS NOT NULL\n",
        "WHERE MOD(ABS(hashmonth),10) < 8 AND RAND() 0.0001\"\"\" "
      ],
      "execution_count": 0,
      "outputs": []
    },
    {
      "cell_type": "code",
      "metadata": {
        "id": "Wpytk55Oy3bV",
        "colab_type": "code",
        "colab": {}
      },
      "source": [
        "eval_df = bq.Query(eval_query ).execute().result().to_dataframe()"
      ],
      "execution_count": 0,
      "outputs": []
    },
    {
      "cell_type": "code",
      "metadata": {
        "id": "pLpDPCm4zBJ1",
        "colab_type": "code",
        "colab": {}
      },
      "source": [
        "eval_df2  = copy.deepcopy(eval_df)\n",
        "eval_df2['is_male'] = 'Unknown'\n",
        "plurality(eval_df2, is_male)\n"
      ],
      "execution_count": 0,
      "outputs": []
    },
    {
      "cell_type": "code",
      "metadata": {
        "id": "8I9Z4YrKzhzJ",
        "colab_type": "code",
        "colab": {}
      },
      "source": [
        "evaluation_df  =(eval_df.merge(eval_df2)).to_csv('eval.csv', index = False, header = False)\n",
        "\n"
      ],
      "execution_count": 0,
      "outputs": []
    },
    {
      "cell_type": "markdown",
      "metadata": {
        "id": "QjeQIeFQNuym",
        "colab_type": "text"
      },
      "source": [
        "# STRUCTURE OF AN ESTIMATOR API MODEL"
      ]
    },
    {
      "cell_type": "code",
      "metadata": {
        "id": "bBWNESiPNzdF",
        "colab_type": "code",
        "colab": {}
      },
      "source": [
        "import tensorflow as tf\n",
        "#Define input feature columns\n",
        "featcols = [\n",
        "            tf.feature_column.numeric_column(\"sq_footage\")\n",
        "]\n",
        "#Instantiate the Linear Regression model\n",
        "model = tf.estimator.LinearRegressor(featcols, './model_trained')\n",
        "\n",
        "#Train the model\n",
        "def train_input_fn():\n",
        "\n",
        "  return features, labels\n",
        "model.train(train_input_fn, steps = 100)\n",
        "\n",
        "#Predict \n",
        "def pred_input_fn():\n",
        "\n",
        "  return features\n",
        "out = model.predict(pred_input_fn)\n",
        "\n"
      ],
      "execution_count": 0,
      "outputs": []
    },
    {
      "cell_type": "markdown",
      "metadata": {
        "id": "XNoh5FdHps1T",
        "colab_type": "text"
      },
      "source": [
        "# CREATION OF A TENSOR FLOW MODEL USING TENSORFLOW'S ESTIMATOR API"
      ]
    },
    {
      "cell_type": "code",
      "metadata": {
        "id": "V9EhLGqON4_d",
        "colab_type": "code",
        "colab": {
          "base_uri": "https://localhost:8080/",
          "height": 34
        },
        "outputId": "e5303023-5733-4e0e-9542-83790585cb61"
      },
      "source": [
        "#using the evaluation csv and the train csv created earlier to build the tensor flow model\n",
        "\"\"\"Write an input function to read the data\"\"\"\n",
        "import shutil\n",
        "import numpy as np\n",
        "import tensorflow as tf\n",
        "print(tf.__version__)\n",
        "\n"
      ],
      "execution_count": 2,
      "outputs": [
        {
          "output_type": "stream",
          "text": [
            "2.2.0-rc2\n"
          ],
          "name": "stdout"
        }
      ]
    },
    {
      "cell_type": "code",
      "metadata": {
        "id": "vzG6CjMWsf0a",
        "colab_type": "code",
        "colab": {}
      },
      "source": [
        "CSV_COLUMNS = 'weight_pounds, is_male, mother_age, plurality,gestation_weeks'\n",
        "LABEL_COLUMN = 'weight_pounds'\n",
        "KEY_COLUMN = 'key'\n",
        "\n",
        "#set default values for each csv column\n",
        "DEFAULTS = [[0.0], ['null'], [0.0], ['null'], [0.0], ['nokey']]\n",
        "TRAIN_STEPS  = 1000\n",
        "\n",
        "\n"
      ],
      "execution_count": 0,
      "outputs": []
    },
    {
      "cell_type": "code",
      "metadata": {
        "id": "TmPRauXpuJw-",
        "colab_type": "code",
        "colab": {}
      },
      "source": [
        "#create an input function reading a file using the DATASET API\n",
        "#Then provide the results to the estimator API\n",
        "def read_dataset(filename, mode, batch_size  = 512):\n",
        "  def_input_fn():\n",
        "    def decode_csv(value_column):\n",
        "      columns = tf.decode_csv(value_column, record_defaults = DEFAULTS)\n",
        "      features  = dict(zip(CSV_COLUMNS, columns))\n",
        "      label = features.pop(LABEL_COLUMN)\n",
        "      return features, label\n",
        "\n",
        "\n",
        "      # Create a list of files that match the pattern \n",
        "      file_list = tf.gfile.Glob(filename)\n",
        "\n",
        "      #Create dataset from the file list\n",
        "      dataset = (tf.data.TextLineDataset(file_list).map (decode_csv)) #Read text file\n",
        "\n",
        "      if mode == tf.estimator.ModeKeys.TRAIN: #specify if we are in training mode or evaluation mode\n",
        "        num_epochs   = None # indefinitely\n",
        "        dataset = dataset.shuffle(buffer_size  = 10*batch_size)\n",
        "      else:\n",
        "        num_epochs = 1 # end of input after this \n",
        "\n",
        "      dataset = dataset.repeat(num_epochs).batch(batch_size)\n",
        "      return dataset.make_one_shot_iterator().get_next()\n",
        "    return_input_fn\n",
        "\n",
        "\n",
        "    "
      ],
      "execution_count": 0,
      "outputs": []
    },
    {
      "cell_type": "code",
      "metadata": {
        "id": "4wfjadCW2nno",
        "colab_type": "code",
        "colab": {}
      },
      "source": [
        "# Next thing is to define the feature columns\n",
        "def get_categorical(name,values):\n",
        "  return tf.feature_column.indicator_column(tf.feature_column.categorical_column_with_vocabulary_list(\n",
        "      name,values\n",
        "  ))\n",
        "\n",
        "def get_cols():\n",
        "  #Define column types\n",
        "  return [\\\n",
        "          get_categorical('is_male', ['True', 'False','Unknown' ]),\n",
        "          tf.feature_column.numeric_column('mother_age'), get_categorical('plurality', ['Single(1)', 'Twins(2)', \n",
        "                                                                                        'Triplets(3)', 'Quadruplets(4)',\n",
        "                                                                                        \n",
        "                                                                                        'Quintuplets(5)', 'Multiple(2+)']\n",
        "                                                                          tf.feature_column.numeric_column('gestation_weeks')\n",
        "                                                                          )]\n"
      ],
      "execution_count": 0,
      "outputs": []
    },
    {
      "cell_type": "markdown",
      "metadata": {
        "id": "v8eqq4Bw48YQ",
        "colab_type": "text"
      },
      "source": [
        "# To predict a tensorflow model, we also need a serving input fucntion.We want all the inputs from the user"
      ]
    },
    {
      "cell_type": "code",
      "metadata": {
        "id": "z74HXwwH5KU2",
        "colab_type": "code",
        "colab": {}
      },
      "source": [
        "def serving_input_fn():\n",
        "  feature_placeholders = {\n",
        "      'is_male': tf.placeholder(tf.string, [None]),\n",
        "      'mother_age': tf.placeholder(tf.float32, [None]),\n",
        "      'plurality':tf.placeholder(tf.string, [None]),\n",
        "      'gestation_weeks': tf.placeholder(tf.float32, [None])\n",
        "  }\n",
        "  features = {\n",
        "      key: tf.expand_dims(tensor, -1)\n",
        "      for key, tensor in feature_placeholder.items()\n",
        "  }\n",
        "  return tf.estimator.export.ServingInputReceiver(features,feature_placeholders )\n",
        "  "
      ],
      "execution_count": 0,
      "outputs": []
    },
    {
      "cell_type": "code",
      "metadata": {
        "id": "ubwhXrut6gV4",
        "colab_type": "code",
        "colab": {}
      },
      "source": [
        "#create estimator to tarin and evaluate\n",
        "\n",
        "def train_and_evaluate(output_dir):\n",
        "  EVAL_INTERVAL = 300\n",
        "  run_config  = tf.estimator.RunConfig(save_checkpoints_secs= EVAL_INETRVAL, keep_checkpoint_max= 3)\n",
        "  estimator = tf.estimator.DNNRegressor(model_dir= output_dir,\n",
        "                                        feature_columns  = get_cols(),\n",
        "                                        hidden_units = [64, 32], \n",
        "                                        config = run_config)\n",
        "  train_spec. = tf.estimator.TrainSpec(input_fn  = read_dataset('train.csv', mode = tf.estimator.ModeKeys, max_steps = TRAIN_STEPS)\n",
        "\n",
        "  exporter = tf.estimator.LatestExporter('exporter', serving_input_fn)\n",
        "  eval_spec = tf.estimator.EvalSpec(\n",
        "      input_fn = read_dataset('eval.csv',mode = tf.estimator.ModeKeys,\n",
        "                              step = None,\n",
        "                              start_delay_secs  = 60, #start evaluating after N seconds\n",
        "                              throttle_secs  = EVAL_INETRVAL, #evaluate every N seconds\n",
        "                              exporters  = exporter)\n",
        "  tf.estimator.train_and_evaluate(estimator, train_spec, eval_spec)\n",
        "  "
      ],
      "execution_count": 0,
      "outputs": []
    },
    {
      "cell_type": "code",
      "metadata": {
        "id": "hTNvlD1f_bOk",
        "colab_type": "code",
        "colab": {}
      },
      "source": [
        "#Finally to train the model\n",
        "shutil.rmtree('babyweight_trained', ignore_errors= True)\n",
        "train_and_evaluate('babyweight_trained')"
      ],
      "execution_count": 0,
      "outputs": []
    },
    {
      "cell_type": "markdown",
      "metadata": {
        "id": "C2BsU6L4_7MU",
        "colab_type": "text"
      },
      "source": [
        "# MONITOR AND EXPERIMENT WITH TRAINING"
      ]
    },
    {
      "cell_type": "code",
      "metadata": {
        "id": "8HzPcfS9ABGY",
        "colab_type": "code",
        "colab": {}
      },
      "source": [
        "from google.datalab.ml import TensorBoard\n",
        "TensorBoard().start('./babyweight_trained')"
      ],
      "execution_count": 0,
      "outputs": []
    },
    {
      "cell_type": "markdown",
      "metadata": {
        "id": "YHvf2UxsAxXh",
        "colab_type": "text"
      },
      "source": [
        "# OPERATIONALISE THE MODEL"
      ]
    },
    {
      "cell_type": "code",
      "metadata": {
        "id": "xyZFIiwoA2DG",
        "colab_type": "code",
        "colab": {}
      },
      "source": [
        ""
      ],
      "execution_count": 0,
      "outputs": []
    }
  ]
}